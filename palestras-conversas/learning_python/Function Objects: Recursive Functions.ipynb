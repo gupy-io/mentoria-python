{
 "nbformat": 4,
 "nbformat_minor": 2,
 "metadata": {
  "language_info": {
   "name": "python",
   "codemirror_mode": {
    "name": "ipython",
    "version": 3
   },
   "version": "3.7.3-final"
  },
  "orig_nbformat": 2,
  "file_extension": ".py",
  "mimetype": "text/x-python",
  "name": "python",
  "npconvert_exporter": "python",
  "pygments_lexer": "ipython3",
  "version": 3,
  "kernelspec": {
   "name": "python37364bit6c6bef24fa9a4488b7bd13c604d4a8b7",
   "display_name": "Python 3.7.3 64-bit"
  }
 },
 "cells": [
  {
   "cell_type": "markdown",
   "execution_count": null,
   "metadata": {},
   "outputs": [],
   "source": [
    "# Funções Recursivas"
   ]
  },
  {
   "cell_type": "code",
   "execution_count": null,
   "metadata": {},
   "outputs": [],
   "source": [
    "from IPython.display import Image\n",
    "Image(filename=\"img/go_horse.jpg\", width=12, height=10)"
   ]
  },
  {
   "cell_type": "markdown",
   "execution_count": null,
   "metadata": {},
   "outputs": [],
   "source": [
    "## Soma com recursão"
   ]
  },
  {
   "cell_type": "code",
   "execution_count": null,
   "metadata": {},
   "outputs": [],
   "source": [
    "def mysum(L):\n",
    "        if not L:\n",
    "            return 0\n",
    "        else:\n",
    "            return L[0] + mysum(L[1:])           # Call myself recursively"
   ]
  },
  {
   "cell_type": "code",
   "execution_count": null,
   "metadata": {},
   "outputs": [],
   "source": [
    "def mysum(L):\n",
    "        if not L:\n",
    "            return 0\n",
    "        else:\n",
    "            return L[0] + mysum(L[1:])           # Call myself recursively"
   ]
  },
  {
   "cell_type": "code",
   "execution_count": null,
   "metadata": {},
   "outputs": [],
   "source": [
    "mysum([1, 2, 3, 4, 5])"
   ]
  },
  {
   "cell_type": "code",
   "execution_count": null,
   "metadata": {},
   "outputs": [],
   "source": [
    "def mysum(L):\n",
    "        print(L)                                 # Trace recursive levels\n",
    "        if not L:                                # L shorter at each level\n",
    "            return 0\n",
    "        else:\n",
    "            return L[0] + mysum(L[1:])"
   ]
  },
  {
   "cell_type": "code",
   "execution_count": null,
   "metadata": {},
   "outputs": [],
   "source": [
    "mysum([1, 2, 3, 4, 5])"
   ]
  },
  {
   "cell_type": "markdown",
   "execution_count": null,
   "metadata": {},
   "outputs": [],
   "source": [
    "### Alternativas de código"
   ]
  },
  {
   "cell_type": "code",
   "execution_count": null,
   "metadata": {},
   "outputs": [],
   "source": [
    "def mysum(L):\n",
    "    return 0 if not L else L[0] + mysum(L[1:])           # Use ternary expression\n",
    "\n",
    "def mysum(L):\n",
    "    return L[0] if len(L) == 1 else L[0] + mysum(L[1:])  # Any type, assume one\n",
    "\n",
    "def mysum(L):\n",
    "    first, *rest = L\n",
    "    return first if not rest else first + mysum(rest)    # Use 3.X ext seq assign"
   ]
  },
  {
   "cell_type": "code",
   "execution_count": null,
   "metadata": {},
   "outputs": [],
   "source": [
    "mysum([1]) # mysum([]) fails in last 2"
   ]
  },
  {
   "cell_type": "code",
   "execution_count": null,
   "metadata": {},
   "outputs": [],
   "source": [
    "mysum([1, 2, 3, 4, 5])"
   ]
  },
  {
   "cell_type": "code",
   "execution_count": null,
   "metadata": {},
   "outputs": [],
   "source": [
    "mysum(('s', 'p', 'a', 'm'))             # But various types now work"
   ]
  },
  {
   "cell_type": "code",
   "execution_count": null,
   "metadata": {},
   "outputs": [],
   "source": [
    "mysum(['spam', 'ham', 'eggs'])"
   ]
  },
  {
   "cell_type": "code",
   "execution_count": null,
   "metadata": {},
   "outputs": [],
   "source": [
    "mysum(['spam'])"
   ]
  },
  {
   "cell_type": "code",
   "execution_count": null,
   "metadata": {},
   "outputs": [],
   "source": []
  },
  {
   "cell_type": "code",
   "execution_count": null,
   "metadata": {},
   "outputs": [],
   "source": [
    "def mysum(L):\n",
    "        print(L)\n",
    "        if not L: return 0\n",
    "        return nonempty(L)                  # Call a function that calls me"
   ]
  },
  {
   "cell_type": "code",
   "execution_count": null,
   "metadata": {},
   "outputs": [],
   "source": [
    "def nonempty(L):\n",
    "        print(L)\n",
    "        return L[0] + mysum(L[1:])          # Indirectly recursive\n"
   ]
  },
  {
   "cell_type": "code",
   "execution_count": null,
   "metadata": {},
   "outputs": [],
   "source": [
    "mysum([1.1, 2.2, 3.3, 4.4])"
   ]
  },
  {
   "cell_type": "markdown",
   "execution_count": null,
   "metadata": {},
   "outputs": [],
   "source": [
    "## Estruturas de iteração x Recursão"
   ]
  },
  {
   "cell_type": "code",
   "execution_count": null,
   "metadata": {},
   "outputs": [],
   "source": [
    "L = [1, 2, 3, 4, 5]\n",
    "sum = 0\n",
    "while L:\n",
    "        sum += L[0]\n",
    "        L = L[1:]"
   ]
  },
  {
   "cell_type": "code",
   "execution_count": null,
   "metadata": {},
   "outputs": [],
   "source": [
    "sum"
   ]
  },
  {
   "cell_type": "code",
   "execution_count": null,
   "metadata": {},
   "outputs": [],
   "source": [
    "L = [1, 2, 3, 4, 5]\n",
    "sum = 0\n",
    "for x in L: sum += x"
   ]
  },
  {
   "cell_type": "code",
   "execution_count": null,
   "metadata": {},
   "outputs": [],
   "source": [
    "sum"
   ]
  },
  {
   "cell_type": "markdown",
   "execution_count": null,
   "metadata": {},
   "outputs": [],
   "source": [
    "## Trabalhando com estruturas arbitrárias"
   ]
  },
  {
   "cell_type": "code",
   "execution_count": null,
   "metadata": {},
   "outputs": [],
   "source": [
    "[1, [2, [3, 4], 5], 6, [7, 8]]                   # Arbitrarily nested sublists"
   ]
  },
  {
   "cell_type": "code",
   "execution_count": null,
   "metadata": {},
   "outputs": [],
   "source": [
    "# file sumtree.py\n",
    "\n",
    "def sumtree(L):\n",
    "    print(L)\n",
    "    tot = 0\n",
    "    for x in L:                                  # For each item at this level\n",
    "        if not isinstance(x, list):\n",
    "            tot += x                             # Add numbers directly\n",
    "        else:\n",
    "            tot += sumtree(x)                    # Recur for sublists\n",
    "    return tot\n",
    "\n",
    "L = [1, [2, [3, 4], 5], 6, [7, 8]]               # Arbitrary nesting\n",
    "print(sumtree(L))                                # Prints 36\n",
    "\n",
    "# Pathological cases\n",
    "print(sumtree([1, [2, [3, [4, [5]]]]]))          # Prints 15 (right-heavy)\n",
    "print(sumtree([[[[[1], 2], 3], 4], 5]))          # Prints 15 (left-heavy)"
   ]
  },
  {
   "cell_type": "code",
   "execution_count": null,
   "metadata": {},
   "outputs": [],
   "source": [
    "from IPython.display import Image\n",
    "Image(filename=\"img/delicia.png\", width=12, height=10)"
   ]
  },
  {
   "cell_type": "markdown",
   "execution_count": null,
   "metadata": {},
   "outputs": [],
   "source": [
    "## RECURSÃO VERSUS FILAS E PILHAS "
   ]
  },
  {
   "cell_type": "code",
   "execution_count": null,
   "metadata": {},
   "outputs": [],
   "source": [
    "def sumtree(L):                                 # Breadth-first, explicit queue\n",
    "    print(L)\n",
    "    tot = 0\n",
    "    items = list(L)                              # Start with copy of top level\n",
    "    while items:\n",
    "        front = items.pop(0)                     # Fetch/delete front item\n",
    "        if not isinstance(front, list):\n",
    "            tot += front                         # Add numbers directly\n",
    "        else:\n",
    "            items.extend(front)                  # <== Append all in nested list\n",
    "    return tot\n",
    "\n",
    "L = [1, [2, [3, 4], 5], 6, [7, 8]]               # Arbitrary nesting\n",
    "print(sumtree(L))                                # Prints 36"
   ]
  },
  {
   "cell_type": "code",
   "execution_count": null,
   "metadata": {},
   "outputs": [],
   "source": [
    "def sumtree(L):\n",
    "    print(L)                                  # Depth-first, explicit stack\n",
    "    tot = 0\n",
    "    items = list(L)                              # Start with copy of top level\n",
    "    while items:\n",
    "        front = items.pop(0)                     # Fetch/delete front item\n",
    "        if not isinstance(front, list):\n",
    "            tot += front                         # Add numbers directly\n",
    "        else:\n",
    "            items[:0] = front                    # <== Prepend all in nested list\n",
    "    return tot\n",
    "\n",
    "L = [1, [2, [3, 4], 5], 6, [7, 8]]               # Arbitrary nesting\n",
    "print(sumtree(L))                                # Prints 36"
   ]
  },
  {
   "cell_type": "markdown",
   "execution_count": null,
   "metadata": {},
   "outputs": [],
   "source": [
    "## Referência\n",
    "#### Learning Python, 5th Edition by Mark Lutz\n",
    "#### Chapter 19 Advanced Function Topics (Recursive Functions)"
   ]
  }
 ]
}